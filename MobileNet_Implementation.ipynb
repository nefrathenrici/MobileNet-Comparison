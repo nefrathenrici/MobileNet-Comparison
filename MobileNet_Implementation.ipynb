{
 "cells": [
  {
   "cell_type": "markdown",
   "metadata": {},
   "source": [
    "## MobileNet Implementation in Pytorch"
   ]
  },
  {
   "cell_type": "markdown",
   "metadata": {},
   "source": [
    "This notebook contains code for a MobileNet v1 implementation in Pytorch. It was not used in the final results because it was too difficult to train. See below for a plot of the vanishing radien"
   ]
  },
  {
   "cell_type": "markdown",
   "metadata": {},
   "source": [
    "### get the data"
   ]
  },
  {
   "cell_type": "code",
   "execution_count": 70,
   "metadata": {},
   "outputs": [],
   "source": [
    "import torch.nn.functional as F\n",
    "from torch import nn, optim\n",
    "from torch.utils.data import DataLoader, TensorDataset\n",
    "import torch as torch\n",
    "import numpy as np\n",
    "import os\n",
    "\n",
    "import matplotlib.pyplot as plt\n",
    "\n",
    "\n",
    "from pathlib import Path\n",
    "import pickle\n",
    "import gzip\n",
    "import matplotlib.image as mpimg \n",
    "import matplotlib.pyplot as plt \n",
    "from PIL import Image\n",
    "import glob"
   ]
  },
  {
   "cell_type": "code",
   "execution_count": 2,
   "metadata": {},
   "outputs": [],
   "source": [
    "# read the data\n",
    "path = \"./tiny-imagenet-200/train/\"\n",
    "classIDs = os.listdir(path)\n",
    "classIDDict = {}\n",
    "for i in range(len(classIDs)):\n",
    "    classIDDict[classIDs[i]] = i\n",
    "\n",
    "imageClassCount = len(classIDs)\n",
    "imagesPerClass = 500\n",
    "imageCount = imageClassCount  * imagesPerClass\n",
    "imageHeight = 64\n",
    "imageWidth = imageHeight\n",
    "channels = 3\n",
    "imageSize = imageHeight * imageWidth * channels\n",
    "\n",
    "def stackImage(image):\n",
    "    return np.stack((im,)*channels, axis=-1)"
   ]
  },
  {
   "cell_type": "code",
   "execution_count": 3,
   "metadata": {
    "scrolled": false
   },
   "outputs": [],
   "source": [
    "#training data\n",
    "images = np.zeros((imageCount, imageHeight, imageWidth, channels),dtype=\"float32\")\n",
    "labels = np.zeros(imageCount, dtype=int)\n",
    "for i in range(len(classIDs)):\n",
    "    fileNames = glob.glob(path+classIDs[i]+\"/images/*.JPEG\")\n",
    "    for j in range(len(fileNames)):\n",
    "        im = mpimg.imread(fileNames[j].replace(\"\\\\\", \"/\"))\n",
    "        if len(im.shape) < channels:\n",
    "            im = stackImage(im)\n",
    "        index = i * imagesPerClass + j\n",
    "        images[index] = im\n",
    "        labels[index] = i"
   ]
  },
  {
   "cell_type": "code",
   "execution_count": 4,
   "metadata": {},
   "outputs": [],
   "source": [
    "#validation data\n",
    "imageCountV = 10000\n",
    "imagesV = np.zeros((imageCountV, imageHeight, imageWidth, channels),dtype=\"float32\")\n",
    "labelsV = np.zeros(imageCountV, dtype=int)\n",
    "pathV = \"./tiny-imagenet-200/val/\"\n",
    "fileNamesV = glob.glob(pathV + \"images/*.JPEG\")\n",
    "fpV = open(pathV + \"val_annotations.txt\", \"r\")\n",
    "for i in range(len(fileNamesV)):\n",
    "    newlineV = fpV.readline()\n",
    "    label = newlineV.split()[1]\n",
    "    filePath = fileNamesV[i].replace(\"\\\\\", \"/\")\n",
    "    imNum = int(filePath.split(\"/\")[-1][4:-5])\n",
    "    im = mpimg.imread(filePath)\n",
    "    if len(im.shape) < channels:\n",
    "            im = stackImage(im)\n",
    "    imagesV[i] = im\n",
    "    labelsV[i] = classIDDict[label]\n",
    "\n",
    "fpV.close()\n",
    "    "
   ]
  },
  {
   "cell_type": "code",
   "execution_count": 5,
   "metadata": {},
   "outputs": [],
   "source": [
    "x_train, y_train = images, labels\n",
    "x_valid, y_valid = imagesV, labelsV"
   ]
  },
  {
   "cell_type": "code",
   "execution_count": 6,
   "metadata": {},
   "outputs": [],
   "source": [
    "x_train, y_train, x_valid, y_valid = map(\n",
    "    torch.tensor, (x_train, y_train, x_valid, y_valid))\n",
    "\n",
    "train_ds = TensorDataset(x_train, y_train)\n",
    "valid_ds = TensorDataset(x_valid, y_valid)"
   ]
  },
  {
   "cell_type": "code",
   "execution_count": 7,
   "metadata": {},
   "outputs": [],
   "source": [
    "bs = 64\n",
    "\n",
    "def get_data(train_ds, valid_ds, bs):\n",
    "    return (\n",
    "        DataLoader(train_ds, batch_size=bs, shuffle=True),\n",
    "        DataLoader(valid_ds, batch_size=bs * 2),\n",
    "    )\n"
   ]
  },
  {
   "cell_type": "markdown",
   "metadata": {},
   "source": [
    "# MobileNet Implementation"
   ]
  },
  {
   "cell_type": "code",
   "execution_count": 113,
   "metadata": {},
   "outputs": [],
   "source": [
    "class dw_conv(nn.Module):\n",
    "    def __init__(self, inp, out, kernel_size, stride):\n",
    "        super(dw_conv, self).__init__()\n",
    "        self.conv = nn.Sequential(\n",
    "            nn.Sequential(\n",
    "            nn.Conv2d(inp, inp, kernel_size, stride, padding=1, groups=inp),\n",
    "\n",
    "            nn.BatchNorm2d(inp),\n",
    "            nn.LeakyReLU(inplace=True)\n",
    "            ),\n",
    "            nn.Sequential(\n",
    "            nn.Conv2d(inp, out, kernel_size=1, stride=1, padding=0, bias=False),\n",
    "            nn.BatchNorm2d(out)\n",
    "            )\n",
    "        )\n",
    "        self.depth = out\n",
    "\n",
    "    def forward(self, x):\n",
    "#         for layer in self.conv:\n",
    "#             print(x.size())\n",
    "        return self.conv(x)\n",
    "\n",
    "class MobileNet(nn.Module):\n",
    "    def __init__(self):\n",
    "        super().__init__()\n",
    "        self.stride=1\n",
    "        self.conv0 = nn.Conv2d(3, 16, kernel_size=3,stride=2,padding=1)\n",
    "        self.conv1 = dw_conv(16, 32, kernel_size=3, stride=1)\n",
    "        self.conv2 = dw_conv(32, 64, kernel_size=3, stride=2)\n",
    "        self.conv3 =  dw_conv(64, 64, kernel_size=3, stride=1)\n",
    "        self.conv4 = dw_conv(64, 128, kernel_size=3, stride=2)\n",
    "        self.conv5 = dw_conv(128, 128, kernel_size=3, stride=1)\n",
    "        self.conv6 = dw_conv(128, 256, kernel_size=3, stride=2)\n",
    "        self.conv7 = dw_conv(256, 256, kernel_size=3, stride=1)\n",
    "        self.conv8 = dw_conv(256, 256, kernel_size=3, stride=1)\n",
    "        self.conv9 = dw_conv(256, 256, kernel_size=3, stride=1)\n",
    "        self.conv10 = dw_conv(256, 256, kernel_size=3, stride=1)\n",
    "        self.conv11 = dw_conv(256, 256, kernel_size=3, stride=1)\n",
    "        self.conv12 = dw_conv(256, 200, kernel_size=3, stride=1)\n",
    "        self.avgPool = nn.AvgPool2d(4)\n",
    "        self.fc = nn.Linear(200, 200)\n",
    "        self.avgPool = nn.AvgPool2d(4)\n",
    "\n",
    "    def forward(self, xb):\n",
    "#         print(xb.shape)\n",
    "        xb = xb.view(-1, 3, 64, 64)\n",
    "#         print(xb.shape)\n",
    "        xb = F.leaky_relu(self.conv0(xb))\n",
    "        xb = F.leaky_relu(self.conv1(xb))\n",
    "        xb = F.leaky_relu(self.conv2(xb))\n",
    "        xb = F.leaky_relu(self.conv3(xb))\n",
    "        xb = F.leaky_relu(self.conv4(xb))\n",
    "        xb = F.leaky_relu(self.conv5(xb))\n",
    "        xb = F.leaky_relu(self.conv6(xb))\n",
    "        xb = F.leaky_relu(self.conv7(xb))\n",
    "        xb = F.leaky_relu(self.conv8(xb))\n",
    "        xb = F.leaky_relu(self.conv9(xb)) \n",
    "        xb = F.leaky_relu(self.conv10(xb))\n",
    "        xb = F.leaky_relu(self.conv11(xb))\n",
    "        xb = F.leaky_relu(self.conv12(xb))\n",
    "        xb = F.leaky_relu(self.avgPool(xb))\n",
    "        xb = xb.view(-1,xb.size(1))\n",
    "#         print(xb.shape)\n",
    "        xb = F.leaky_relu(self.fc(xb))\n",
    "#         print(\"fc\",xb.shape)\n",
    "        return xb\n"
   ]
  },
  {
   "cell_type": "code",
   "execution_count": 114,
   "metadata": {},
   "outputs": [],
   "source": [
    "\n",
    "def loss_batch(model, loss_func, xb, yb, opt=None):\n",
    "    loss = loss_func(model(xb), yb)\n",
    "    if opt is not None:\n",
    "        loss.backward()\n",
    "        plot_grad_flow(model.named_parameters())\n",
    "        opt.step()\n",
    "        opt.zero_grad()\n",
    "\n",
    "    return loss.item(), len(xb)\n",
    "\n",
    "def accuracy(out, yb):\n",
    "    preds = torch.argmax(out, dim=1)\n",
    "    return (preds == yb).float().mean()\n",
    "                \n",
    "def fit(epochs, model, loss_func, opt, train_dl, valid_dl):\n",
    "    for epoch in range(epochs):\n",
    "        model.train()\n",
    "        counter = 0\n",
    "        train_loss = 0\n",
    "        for xb, yb in train_dl:\n",
    "            loss = loss_batch(model, loss_func, xb, yb, opt)\n",
    "            train_loss += loss[0]/loss[1]\n",
    "            if counter > 20:\n",
    "                break\n",
    "            else:\n",
    "                counter+=1\n",
    "        model.eval()\n",
    "        with torch.no_grad():\n",
    "            losses, nums = zip(\n",
    "                *[loss_batch(model, loss_func, xb, yb) for xb, yb in valid_dl]\n",
    "            )\n",
    "        val_loss = np.sum(np.multiply(losses, nums)) / np.sum(nums)\n",
    "        print(f\"Epoch: {epoch} Training Loss: {train_loss} Valid Loss: {val_loss} Accuracy: {accuracy(model(xb), yb)}\")"
   ]
  },
  {
   "cell_type": "code",
   "execution_count": 115,
   "metadata": {
    "scrolled": true
   },
   "outputs": [
    {
     "name": "stdout",
     "output_type": "stream",
     "text": [
      "Epoch: 0 Training Loss: 1.8237921297550201 Valid Loss: 5.303632716369629 Accuracy: 0.03125\n",
      "Epoch: 1 Training Loss: 1.8273010328412056 Valid Loss: 5.586597190856933 Accuracy: 0.0\n",
      "Epoch: 2 Training Loss: 1.8246278837323189 Valid Loss: 5.384133768463135 Accuracy: 0.015625\n"
     ]
    },
    {
     "data": {
      "image/png": "[encoded data removed]",
      "text/plain": [
       "<Figure size 432x288 with 1 Axes>"
      ]
     },
     "metadata": {
      "needs_background": "light"
     },
     "output_type": "display_data"
    }
   ],
   "source": [
    "model = MobileNet()\n",
    "\n",
    "lr = 0.06 # learning rate\n",
    "epochs = 3  # how many epochs to train for\n",
    "\n",
    "opt = optim.SGD(model.parameters(), lr=lr, momentum=0.9)\n",
    "\n",
    "train_dl, valid_dl = get_data(train_ds, valid_ds, bs)\n",
    "\n",
    "# loss_func = F.cross_entropy\n",
    "def loss_func(xb, yb):\n",
    "    return nn.CrossEntropyLoss()(xb,yb)\n",
    "\n",
    "# from https://discuss.pytorch.org/t/check-gradient-flow-in-network/15063\n",
    "def plot_grad_flow(named_parameters):\n",
    "    ave_grads = []\n",
    "    layers = []\n",
    "    for n, p in named_parameters:\n",
    "        if(p.requires_grad) and (\"bias\" not in n):\n",
    "            layers.append(n)\n",
    "            ave_grads.append(p.grad.abs().mean())\n",
    "    plt.plot(ave_grads, alpha=0.3, color=\"b\")\n",
    "    plt.hlines(0, 0, len(ave_grads)+1, linewidth=1, color=\"k\" )\n",
    "    plt.xticks(range(0,len(ave_grads), 1), layers, rotation=\"vertical\")\n",
    "    plt.xlim(xmin=0, xmax=len(ave_grads))\n",
    "    plt.xlabel(\"Layers\")\n",
    "    plt.ylabel(\"average gradient\")\n",
    "    plt.title(\"Gradient flow\")\n",
    "    plt.grid(True)\n",
    "\n",
    "fit(epochs, model, loss_func=loss_func, opt=opt, train_dl=train_dl, valid_dl=valid_dl)"
   ]
  },
  {
   "cell_type": "code",
   "execution_count": null,
   "metadata": {},
   "outputs": [],
   "source": []
  },
  {
   "cell_type": "code",
   "execution_count": null,
   "metadata": {},
   "outputs": [],
   "source": []
  }
 ],
 "metadata": {
  "kernelspec": {
   "display_name": "Python 3",
   "language": "python",
   "name": "python3"
  },
  "language_info": {
   "codemirror_mode": {
    "name": "ipython",
    "version": 3
   },
   "file_extension": ".py",
   "mimetype": "text/x-python",
   "name": "python",
   "nbconvert_exporter": "python",
   "pygments_lexer": "ipython3",
   "version": "3.6.5"
  }
 },
 "nbformat": 4,
 "nbformat_minor": 4
}
